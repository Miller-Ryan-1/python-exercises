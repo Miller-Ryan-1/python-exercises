{
 "cells": [
  {
   "cell_type": "code",
   "execution_count": 56,
   "id": "1a7bbe50",
   "metadata": {},
   "outputs": [
    {
     "data": {
      "text/plain": [
       "True"
      ]
     },
     "execution_count": 56,
     "metadata": {},
     "output_type": "execute_result"
    }
   ],
   "source": [
    "#1\n",
    "def is_two(n):\n",
    "    if n in (2,'2'):\n",
    "        return True\n",
    "    else:\n",
    "        return False\n",
    "\n",
    "is_two(2)\n",
    "# is_two('2')\n",
    "# is_two(4)\n",
    "# is_two('string')"
   ]
  },
  {
   "cell_type": "code",
   "execution_count": 93,
   "id": "1e07456b",
   "metadata": {},
   "outputs": [
    {
     "data": {
      "text/plain": [
       "True"
      ]
     },
     "execution_count": 93,
     "metadata": {},
     "output_type": "execute_result"
    }
   ],
   "source": [
    "#2\n",
    "def is_vowel(string):\n",
    "    return string.lower() in ('a','e','i','o','u')\n",
    "    \n",
    "is_vowel('e')\n",
    "# is_vowel('string')"
   ]
  },
  {
   "cell_type": "code",
   "execution_count": 94,
   "id": "5468bf9e",
   "metadata": {},
   "outputs": [
    {
     "data": {
      "text/plain": [
       "True"
      ]
     },
     "execution_count": 94,
     "metadata": {},
     "output_type": "execute_result"
    }
   ],
   "source": [
    "#3\n",
    "def is_consonant(string):\n",
    "    return string in ('b','c','d','f','g','h','j','k','l','m','n','p','q','r','s','t','v','w','x','y','z')\n",
    "\n",
    "is_consonant('q')\n",
    "# is_consonant('4')"
   ]
  },
  {
   "cell_type": "code",
   "execution_count": 65,
   "id": "764fe6e1",
   "metadata": {},
   "outputs": [
    {
     "data": {
      "text/plain": [
       "'Bright'"
      ]
     },
     "execution_count": 65,
     "metadata": {},
     "output_type": "execute_result"
    }
   ],
   "source": [
    "#4\n",
    "def consonant_capitalizer(string):\n",
    "    if string[0].lower() in ('b','c','d','f','g','h','j','k','l','m','n','p','q','r','s','t','v','w','x','y','z'):\n",
    "        return string.capitalize()\n",
    "    else:\n",
    "        return string\n",
    "\n",
    "consonant_capitalizer('bright')\n",
    "# consonant_capitalizer('echo')"
   ]
  },
  {
   "cell_type": "code",
   "execution_count": 70,
   "id": "f0a2b36a",
   "metadata": {},
   "outputs": [
    {
     "name": "stdout",
     "output_type": "stream",
     "text": [
      "Invalid tip rate.  Please enter a number between zero and one.\n"
     ]
    }
   ],
   "source": [
    "#5\n",
    "def calculate_tip(rate, bill):\n",
    "    if rate >= 0 and rate <= 1:\n",
    "        return bill * rate\n",
    "    else:\n",
    "        print('Invalid tip rate.  Please enter a number between zero and one.')\n",
    "    \n",
    "calculate_tip(.18,100)\n",
    "# calculate_tip(2,5)"
   ]
  },
  {
   "cell_type": "code",
   "execution_count": 71,
   "id": "584559e8",
   "metadata": {},
   "outputs": [
    {
     "data": {
      "text/plain": [
       "41.25"
      ]
     },
     "execution_count": 71,
     "metadata": {},
     "output_type": "execute_result"
    }
   ],
   "source": [
    "#6\n",
    "def apply_discount(price,discount):\n",
    "    if discount > 1:\n",
    "        print('Discount greater than the cost of item.  Try again.')\n",
    "    else:\n",
    "        return price*(1-discount)\n",
    "\n",
    "apply_discount(55,.25)\n",
    "# apply_discount(20,100)"
   ]
  },
  {
   "cell_type": "code",
   "execution_count": 75,
   "id": "13c22053",
   "metadata": {},
   "outputs": [
    {
     "data": {
      "text/plain": [
       "3456980"
      ]
     },
     "execution_count": 75,
     "metadata": {},
     "output_type": "execute_result"
    }
   ],
   "source": [
    "#7\n",
    "handle_commas = lambda num_string: int(num_string.replace(',',''))\n",
    "\n",
    "handle_commas('3,456,980')"
   ]
  },
  {
   "cell_type": "code",
   "execution_count": 19,
   "id": "0e3104f3",
   "metadata": {},
   "outputs": [
    {
     "data": {
      "text/plain": [
       "'B'"
      ]
     },
     "execution_count": 19,
     "metadata": {},
     "output_type": "execute_result"
    }
   ],
   "source": [
    "#8\n",
    "def get_letter_grade(num_grade):\n",
    "    if num_grade > 90:\n",
    "        return 'A'\n",
    "    elif num_grade > 80:\n",
    "        return 'B'\n",
    "    elif num_grade > 70:\n",
    "        return 'C'\n",
    "    elif num_grade > 65:\n",
    "        return 'D'\n",
    "    else:\n",
    "        return 'F'\n",
    "\n",
    "get_letter_grade(88)"
   ]
  },
  {
   "cell_type": "code",
   "execution_count": 25,
   "id": "94c11ace",
   "metadata": {},
   "outputs": [
    {
     "data": {
      "text/plain": [
       "'ghstfc'"
      ]
     },
     "execution_count": 25,
     "metadata": {},
     "output_type": "execute_result"
    }
   ],
   "source": [
    "#9\n",
    "def remove_vowels(string):\n",
    "    newstring = []\n",
    "    for letter in string:\n",
    "        if letter not in ('A','a','E','e','I','i','O','o','U','u'):\n",
    "            newstring.append(letter)\n",
    "    return ''.join(newstring)\n",
    "\n",
    "remove_vowels('ghostface')"
   ]
  },
  {
   "cell_type": "code",
   "execution_count": 96,
   "id": "1c4a3d5b",
   "metadata": {},
   "outputs": [
    {
     "data": {
      "text/plain": [
       "'name_game_4_shame'"
      ]
     },
     "execution_count": 96,
     "metadata": {},
     "output_type": "execute_result"
    }
   ],
   "source": [
    "#10\n",
    "def normalize_name(string):\n",
    "    if type(string) != str:\n",
    "        print('Invalid input, please enter a string')\n",
    "        return\n",
    "    string = string.strip().lower()\n",
    "    string_list = []\n",
    "    for letter in string:\n",
    "        if letter.isalnum() == True:\n",
    "            string_list.append(letter)\n",
    "        if letter == ' ':\n",
    "            string_list.append('_')\n",
    "    return ''.join(string_list)\n",
    "\n",
    "normalize_name('     Name Game #$4 SHAME')\n",
    "# normalize_name(9873298457)"
   ]
  },
  {
   "cell_type": "code",
   "execution_count": 80,
   "id": "3c190553",
   "metadata": {},
   "outputs": [
    {
     "data": {
      "text/plain": [
       "[1, 3, 8, 106, -194, 27]"
      ]
     },
     "execution_count": 80,
     "metadata": {},
     "output_type": "execute_result"
    }
   ],
   "source": [
    "#11\n",
    "def cumulative_sum(list):\n",
    "    sum_list = []\n",
    "    sum = 0\n",
    "    for n in list:\n",
    "        sum += n\n",
    "        sum_list.append(sum)\n",
    "    return sum_list\n",
    "\n",
    "cumulative_sum([1,2,5,98,-300,221])"
   ]
  },
  {
   "cell_type": "code",
   "execution_count": 89,
   "id": "02b0987d",
   "metadata": {},
   "outputs": [
    {
     "data": {
      "text/plain": [
       "'0538'"
      ]
     },
     "execution_count": 89,
     "metadata": {},
     "output_type": "execute_result"
    }
   ],
   "source": [
    "#12(a)\n",
    "def twelveto24(string):\n",
    "    # Here I would check format, but don't want to spend hours figuring out the regex so assuming proper input\n",
    "    # Determine am/pm:\n",
    "    ampm = string[-2]\n",
    "    # slice last two letters out\n",
    "    string = string[0:-2]\n",
    "    # then split remaining string by ':'\n",
    "    stringlist = string.split(':')\n",
    "    # use the first letter of the splice to determine whether or not to add 12\n",
    "    if ampm == 'p':\n",
    "        #convert to int to add the 12 then back to string - *there must be an easier way to do this!\n",
    "        x = int(stringlist[0]) \n",
    "        x += 12\n",
    "        x = str(x)\n",
    "        stringlist[0] = x\n",
    "    # if not adding 12 and the first number is a single digit, add a leading zero\n",
    "    string = ''.join(stringlist)\n",
    "    if len(string) == 4:\n",
    "        return string\n",
    "    else:\n",
    "        return '0' + string\n",
    "    \n",
    "twelveto24('5:38am')"
   ]
  },
  {
   "cell_type": "code",
   "execution_count": 87,
   "id": "cd977434",
   "metadata": {},
   "outputs": [
    {
     "data": {
      "text/plain": [
       "'11:45pm'"
      ]
     },
     "execution_count": 87,
     "metadata": {},
     "output_type": "execute_result"
    }
   ],
   "source": [
    "#12(b)\n",
    "def twentyfourto12(string):\n",
    "    #Split into two parts\n",
    "    string_hours = string[0:2]\n",
    "    string_minutes = string[2:]\n",
    "    #if there is a leading zero, remove the zero, and concat with colon, minutes and am\n",
    "    if string_hours[0] == '0':\n",
    "        return string_hours[1] + ':' + string_minutes + 'am'\n",
    "    #if first is 10 or 11, concat with colon, minutes and am\n",
    "    if string_hours == '10' or string_hours == '11':\n",
    "        return string_hours + ':' + string_minutes + 'am'\n",
    "    #if first is 12, concat with minutes and pm\n",
    "    if string_hours == '12':\n",
    "        return string_hours + ':' + string_minutes + 'pm'\n",
    "    #if first has leading zeropart greater than 12, convert to number, subtract 12 from it convert back to and store it as a pm\n",
    "    string_hours = int(string_hours) - 12\n",
    "    return str(string_hours) + ':' + string_minutes + 'pm'\n",
    "\n",
    "twentyfourto12('2345')"
   ]
  },
  {
   "cell_type": "code",
   "execution_count": 95,
   "id": "7188fe8d",
   "metadata": {},
   "outputs": [
    {
     "data": {
      "text/plain": [
       "1314"
      ]
     },
     "execution_count": 95,
     "metadata": {},
     "output_type": "execute_result"
    }
   ],
   "source": [
    "#13\n",
    "def col_index(string):\n",
    "  #create letter string with zero prefix (so that A=1, Z=26)\n",
    "  letter_value = ('0ABCDEFGHIJKLMNOPQRSTUVWXYZ')\n",
    "  #split and reverse input string into list\n",
    "  string_list = list(string)\n",
    "  string_list.reverse()\n",
    "  #create index variable and initialize to zero\n",
    "  index = 0\n",
    "  #Loop through input list determining value from input string and multiplying by 26 to the index power\n",
    "  for i in range(len(string_list)):\n",
    "    index += letter_value.index(string_list[i]) * (26 ** i)\n",
    "  return index\n",
    "\n",
    "col_index('AXN')"
   ]
  }
 ],
 "metadata": {
  "kernelspec": {
   "display_name": "Python 3 (ipykernel)",
   "language": "python",
   "name": "python3"
  },
  "language_info": {
   "codemirror_mode": {
    "name": "ipython",
    "version": 3
   },
   "file_extension": ".py",
   "mimetype": "text/x-python",
   "name": "python",
   "nbconvert_exporter": "python",
   "pygments_lexer": "ipython3",
   "version": "3.9.7"
  }
 },
 "nbformat": 4,
 "nbformat_minor": 5
}

{
 "cells": [
  {
   "cell_type": "code",
   "execution_count": 9,
   "id": "82f979f0",
   "metadata": {},
   "outputs": [
    {
     "name": "stdout",
     "output_type": "stream",
     "text": [
      "Number too big!\n"
     ]
    }
   ],
   "source": [
    "def tester(x):\n",
    "    if x > 10:\n",
    "        print(\"Number too big!\")\n",
    "        return\n",
    "    while x > 0:\n",
    "        print(str(x) + ' is still greater than zero')\n",
    "        x -= 1\n",
    "    print ('All done!')\n",
    "    return\n",
    "\n",
    "tester(11)"
   ]
  },
  {
   "cell_type": "code",
   "execution_count": 12,
   "id": "0144bc6a",
   "metadata": {},
   "outputs": [
    {
     "name": "stdout",
     "output_type": "stream",
     "text": [
      "Keyboard shortcuts for Jupyter?\n"
     ]
    }
   ],
   "source": [
    "def shortcuts():\n",
    "    print('Keyboard shortcuts for Jupyter?')\n",
    "    \n",
    "shortcuts()"
   ]
  },
  {
   "cell_type": "code",
   "execution_count": 6,
   "id": "07651550",
   "metadata": {},
   "outputs": [
    {
     "name": "stdout",
     "output_type": "stream",
     "text": [
      "Peter, John, Paul, and Mary\n"
     ]
    }
   ],
   "source": [
    "spam = ['Peter', 'John', 'Paul', 'Mary']\n",
    "\n",
    "def listorama(inlist):\n",
    "    try:\n",
    "        x = 0\n",
    "        while x < (len(inlist)-1):\n",
    "            print(str(inlist[x]) + ', ', end='')\n",
    "            x += 1\n",
    "        print('and ' + str(inlist[-1]))\n",
    "    except IndexError:\n",
    "        print('No List Entered')\n",
    "\n",
    "listorama(spam)"
   ]
  },
  {
   "cell_type": "code",
   "execution_count": null,
   "id": "9500bc5f",
   "metadata": {},
   "outputs": [],
   "source": []
  }
 ],
 "metadata": {
  "kernelspec": {
   "display_name": "Python 3 (ipykernel)",
   "language": "python",
   "name": "python3"
  },
  "language_info": {
   "codemirror_mode": {
    "name": "ipython",
    "version": 3
   },
   "file_extension": ".py",
   "mimetype": "text/x-python",
   "name": "python",
   "nbconvert_exporter": "python",
   "pygments_lexer": "ipython3",
   "version": "3.9.7"
  }
 },
 "nbformat": 4,
 "nbformat_minor": 5
}
